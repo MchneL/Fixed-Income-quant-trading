{
 "cells": [
  {
   "cell_type": "code",
   "execution_count": 3,
   "metadata": {},
   "outputs": [],
   "source": [
    "import numpy as np\n",
    "import pandas as pd\n",
    "import matplotlib.pyplot as plt\n",
    "import seaborn as sns\n",
    "\n",
    "%matplotlib inline\n",
    "plt.style.use('seaborn')"
   ]
  },
  {
   "cell_type": "markdown",
   "metadata": {},
   "source": [
    "### 2a: Download dataset"
   ]
  },
  {
   "cell_type": "code",
   "execution_count": 4,
   "metadata": {},
   "outputs": [],
   "source": [
    "Curve = pd.read_csv('USTREASURY-YIELD .csv', index_col = 0, parse_dates = True)"
   ]
  },
  {
   "cell_type": "code",
   "execution_count": 5,
   "metadata": {},
   "outputs": [
    {
     "data": {
      "text/html": [
       "<div>\n",
       "<style scoped>\n",
       "    .dataframe tbody tr th:only-of-type {\n",
       "        vertical-align: middle;\n",
       "    }\n",
       "\n",
       "    .dataframe tbody tr th {\n",
       "        vertical-align: top;\n",
       "    }\n",
       "\n",
       "    .dataframe thead th {\n",
       "        text-align: right;\n",
       "    }\n",
       "</style>\n",
       "<table border=\"1\" class=\"dataframe\">\n",
       "  <thead>\n",
       "    <tr style=\"text-align: right;\">\n",
       "      <th></th>\n",
       "      <th>1 MO</th>\n",
       "      <th>2 MO</th>\n",
       "      <th>3 MO</th>\n",
       "      <th>6 MO</th>\n",
       "      <th>1 YR</th>\n",
       "      <th>2 YR</th>\n",
       "      <th>3 YR</th>\n",
       "      <th>5 YR</th>\n",
       "      <th>7 YR</th>\n",
       "      <th>10 YR</th>\n",
       "      <th>20 YR</th>\n",
       "      <th>30 YR</th>\n",
       "    </tr>\n",
       "    <tr>\n",
       "      <th>Date</th>\n",
       "      <th></th>\n",
       "      <th></th>\n",
       "      <th></th>\n",
       "      <th></th>\n",
       "      <th></th>\n",
       "      <th></th>\n",
       "      <th></th>\n",
       "      <th></th>\n",
       "      <th></th>\n",
       "      <th></th>\n",
       "      <th></th>\n",
       "      <th></th>\n",
       "    </tr>\n",
       "  </thead>\n",
       "  <tbody>\n",
       "    <tr>\n",
       "      <th>2017-12-29</th>\n",
       "      <td>1.28</td>\n",
       "      <td>NaN</td>\n",
       "      <td>1.39</td>\n",
       "      <td>1.53</td>\n",
       "      <td>1.76</td>\n",
       "      <td>1.89</td>\n",
       "      <td>1.98</td>\n",
       "      <td>2.20</td>\n",
       "      <td>2.33</td>\n",
       "      <td>2.40</td>\n",
       "      <td>2.58</td>\n",
       "      <td>2.74</td>\n",
       "    </tr>\n",
       "    <tr>\n",
       "      <th>2017-12-28</th>\n",
       "      <td>1.19</td>\n",
       "      <td>NaN</td>\n",
       "      <td>1.39</td>\n",
       "      <td>1.54</td>\n",
       "      <td>1.76</td>\n",
       "      <td>1.91</td>\n",
       "      <td>2.00</td>\n",
       "      <td>2.23</td>\n",
       "      <td>2.36</td>\n",
       "      <td>2.43</td>\n",
       "      <td>2.60</td>\n",
       "      <td>2.75</td>\n",
       "    </tr>\n",
       "    <tr>\n",
       "      <th>2017-12-27</th>\n",
       "      <td>1.18</td>\n",
       "      <td>NaN</td>\n",
       "      <td>1.44</td>\n",
       "      <td>1.53</td>\n",
       "      <td>1.75</td>\n",
       "      <td>1.89</td>\n",
       "      <td>1.99</td>\n",
       "      <td>2.22</td>\n",
       "      <td>2.34</td>\n",
       "      <td>2.42</td>\n",
       "      <td>2.59</td>\n",
       "      <td>2.75</td>\n",
       "    </tr>\n",
       "    <tr>\n",
       "      <th>2017-12-26</th>\n",
       "      <td>1.24</td>\n",
       "      <td>NaN</td>\n",
       "      <td>1.47</td>\n",
       "      <td>1.52</td>\n",
       "      <td>1.75</td>\n",
       "      <td>1.92</td>\n",
       "      <td>2.02</td>\n",
       "      <td>2.25</td>\n",
       "      <td>2.38</td>\n",
       "      <td>2.47</td>\n",
       "      <td>2.66</td>\n",
       "      <td>2.82</td>\n",
       "    </tr>\n",
       "    <tr>\n",
       "      <th>2017-12-22</th>\n",
       "      <td>1.15</td>\n",
       "      <td>NaN</td>\n",
       "      <td>1.33</td>\n",
       "      <td>1.54</td>\n",
       "      <td>1.73</td>\n",
       "      <td>1.91</td>\n",
       "      <td>2.01</td>\n",
       "      <td>2.26</td>\n",
       "      <td>2.40</td>\n",
       "      <td>2.48</td>\n",
       "      <td>2.68</td>\n",
       "      <td>2.83</td>\n",
       "    </tr>\n",
       "  </tbody>\n",
       "</table>\n",
       "</div>"
      ],
      "text/plain": [
       "            1 MO  2 MO  3 MO  6 MO  1 YR  2 YR  3 YR  5 YR  7 YR  10 YR  \\\n",
       "Date                                                                      \n",
       "2017-12-29  1.28   NaN  1.39  1.53  1.76  1.89  1.98  2.20  2.33   2.40   \n",
       "2017-12-28  1.19   NaN  1.39  1.54  1.76  1.91  2.00  2.23  2.36   2.43   \n",
       "2017-12-27  1.18   NaN  1.44  1.53  1.75  1.89  1.99  2.22  2.34   2.42   \n",
       "2017-12-26  1.24   NaN  1.47  1.52  1.75  1.92  2.02  2.25  2.38   2.47   \n",
       "2017-12-22  1.15   NaN  1.33  1.54  1.73  1.91  2.01  2.26  2.40   2.48   \n",
       "\n",
       "            20 YR  30 YR  \n",
       "Date                      \n",
       "2017-12-29   2.58   2.74  \n",
       "2017-12-28   2.60   2.75  \n",
       "2017-12-27   2.59   2.75  \n",
       "2017-12-26   2.66   2.82  \n",
       "2017-12-22   2.68   2.83  "
      ]
     },
     "execution_count": 5,
     "metadata": {},
     "output_type": "execute_result"
    }
   ],
   "source": [
    "Curve.head()"
   ]
  },
  {
   "cell_type": "code",
   "execution_count": 6,
   "metadata": {},
   "outputs": [],
   "source": [
    "Curve = Curve.sort_index().loc['2012-03-01':,:]"
   ]
  },
  {
   "cell_type": "code",
   "execution_count": 7,
   "metadata": {
    "scrolled": false
   },
   "outputs": [
    {
     "data": {
      "text/html": [
       "<div>\n",
       "<style scoped>\n",
       "    .dataframe tbody tr th:only-of-type {\n",
       "        vertical-align: middle;\n",
       "    }\n",
       "\n",
       "    .dataframe tbody tr th {\n",
       "        vertical-align: top;\n",
       "    }\n",
       "\n",
       "    .dataframe thead th {\n",
       "        text-align: right;\n",
       "    }\n",
       "</style>\n",
       "<table border=\"1\" class=\"dataframe\">\n",
       "  <thead>\n",
       "    <tr style=\"text-align: right;\">\n",
       "      <th></th>\n",
       "      <th>1 MO</th>\n",
       "      <th>2 MO</th>\n",
       "      <th>3 MO</th>\n",
       "      <th>6 MO</th>\n",
       "      <th>1 YR</th>\n",
       "      <th>2 YR</th>\n",
       "      <th>3 YR</th>\n",
       "      <th>5 YR</th>\n",
       "      <th>7 YR</th>\n",
       "      <th>10 YR</th>\n",
       "      <th>20 YR</th>\n",
       "      <th>30 YR</th>\n",
       "    </tr>\n",
       "    <tr>\n",
       "      <th>Date</th>\n",
       "      <th></th>\n",
       "      <th></th>\n",
       "      <th></th>\n",
       "      <th></th>\n",
       "      <th></th>\n",
       "      <th></th>\n",
       "      <th></th>\n",
       "      <th></th>\n",
       "      <th></th>\n",
       "      <th></th>\n",
       "      <th></th>\n",
       "      <th></th>\n",
       "    </tr>\n",
       "  </thead>\n",
       "  <tbody>\n",
       "    <tr>\n",
       "      <th>2012-03-01</th>\n",
       "      <td>0.07</td>\n",
       "      <td>NaN</td>\n",
       "      <td>0.08</td>\n",
       "      <td>0.13</td>\n",
       "      <td>0.18</td>\n",
       "      <td>0.30</td>\n",
       "      <td>0.43</td>\n",
       "      <td>0.89</td>\n",
       "      <td>1.44</td>\n",
       "      <td>2.03</td>\n",
       "      <td>2.80</td>\n",
       "      <td>3.15</td>\n",
       "    </tr>\n",
       "    <tr>\n",
       "      <th>2012-03-02</th>\n",
       "      <td>0.06</td>\n",
       "      <td>NaN</td>\n",
       "      <td>0.07</td>\n",
       "      <td>0.12</td>\n",
       "      <td>0.17</td>\n",
       "      <td>0.28</td>\n",
       "      <td>0.41</td>\n",
       "      <td>0.84</td>\n",
       "      <td>1.38</td>\n",
       "      <td>1.99</td>\n",
       "      <td>2.77</td>\n",
       "      <td>3.11</td>\n",
       "    </tr>\n",
       "    <tr>\n",
       "      <th>2012-03-05</th>\n",
       "      <td>0.07</td>\n",
       "      <td>NaN</td>\n",
       "      <td>0.08</td>\n",
       "      <td>0.14</td>\n",
       "      <td>0.17</td>\n",
       "      <td>0.31</td>\n",
       "      <td>0.43</td>\n",
       "      <td>0.87</td>\n",
       "      <td>1.40</td>\n",
       "      <td>2.00</td>\n",
       "      <td>2.78</td>\n",
       "      <td>3.13</td>\n",
       "    </tr>\n",
       "    <tr>\n",
       "      <th>2012-03-06</th>\n",
       "      <td>0.06</td>\n",
       "      <td>NaN</td>\n",
       "      <td>0.08</td>\n",
       "      <td>0.13</td>\n",
       "      <td>0.17</td>\n",
       "      <td>0.30</td>\n",
       "      <td>0.40</td>\n",
       "      <td>0.83</td>\n",
       "      <td>1.35</td>\n",
       "      <td>1.96</td>\n",
       "      <td>2.73</td>\n",
       "      <td>3.08</td>\n",
       "    </tr>\n",
       "    <tr>\n",
       "      <th>2012-03-07</th>\n",
       "      <td>0.06</td>\n",
       "      <td>NaN</td>\n",
       "      <td>0.08</td>\n",
       "      <td>0.14</td>\n",
       "      <td>0.18</td>\n",
       "      <td>0.30</td>\n",
       "      <td>0.42</td>\n",
       "      <td>0.85</td>\n",
       "      <td>1.37</td>\n",
       "      <td>1.98</td>\n",
       "      <td>2.76</td>\n",
       "      <td>3.12</td>\n",
       "    </tr>\n",
       "  </tbody>\n",
       "</table>\n",
       "</div>"
      ],
      "text/plain": [
       "            1 MO  2 MO  3 MO  6 MO  1 YR  2 YR  3 YR  5 YR  7 YR  10 YR  \\\n",
       "Date                                                                      \n",
       "2012-03-01  0.07   NaN  0.08  0.13  0.18  0.30  0.43  0.89  1.44   2.03   \n",
       "2012-03-02  0.06   NaN  0.07  0.12  0.17  0.28  0.41  0.84  1.38   1.99   \n",
       "2012-03-05  0.07   NaN  0.08  0.14  0.17  0.31  0.43  0.87  1.40   2.00   \n",
       "2012-03-06  0.06   NaN  0.08  0.13  0.17  0.30  0.40  0.83  1.35   1.96   \n",
       "2012-03-07  0.06   NaN  0.08  0.14  0.18  0.30  0.42  0.85  1.37   1.98   \n",
       "\n",
       "            20 YR  30 YR  \n",
       "Date                      \n",
       "2012-03-01   2.80   3.15  \n",
       "2012-03-02   2.77   3.11  \n",
       "2012-03-05   2.78   3.13  \n",
       "2012-03-06   2.73   3.08  \n",
       "2012-03-07   2.76   3.12  "
      ]
     },
     "execution_count": 7,
     "metadata": {},
     "output_type": "execute_result"
    }
   ],
   "source": [
    "Curve.head()"
   ]
  },
  {
   "cell_type": "markdown",
   "metadata": {},
   "source": [
    "### 2a: Remove '1M' & '3M'"
   ]
  },
  {
   "cell_type": "code",
   "execution_count": 8,
   "metadata": {},
   "outputs": [],
   "source": [
    "Curve = Curve.drop(columns = ['1 MO', '2 MO','3 MO']) #Because the '2 MO' column is all NaN, we also remove this column. "
   ]
  },
  {
   "cell_type": "code",
   "execution_count": 9,
   "metadata": {},
   "outputs": [
    {
     "data": {
      "text/html": [
       "<div>\n",
       "<style scoped>\n",
       "    .dataframe tbody tr th:only-of-type {\n",
       "        vertical-align: middle;\n",
       "    }\n",
       "\n",
       "    .dataframe tbody tr th {\n",
       "        vertical-align: top;\n",
       "    }\n",
       "\n",
       "    .dataframe thead th {\n",
       "        text-align: right;\n",
       "    }\n",
       "</style>\n",
       "<table border=\"1\" class=\"dataframe\">\n",
       "  <thead>\n",
       "    <tr style=\"text-align: right;\">\n",
       "      <th></th>\n",
       "      <th>6 MO</th>\n",
       "      <th>1 YR</th>\n",
       "      <th>2 YR</th>\n",
       "      <th>3 YR</th>\n",
       "      <th>5 YR</th>\n",
       "      <th>7 YR</th>\n",
       "      <th>10 YR</th>\n",
       "      <th>20 YR</th>\n",
       "      <th>30 YR</th>\n",
       "    </tr>\n",
       "    <tr>\n",
       "      <th>Date</th>\n",
       "      <th></th>\n",
       "      <th></th>\n",
       "      <th></th>\n",
       "      <th></th>\n",
       "      <th></th>\n",
       "      <th></th>\n",
       "      <th></th>\n",
       "      <th></th>\n",
       "      <th></th>\n",
       "    </tr>\n",
       "  </thead>\n",
       "  <tbody>\n",
       "    <tr>\n",
       "      <th>2012-03-01</th>\n",
       "      <td>0.13</td>\n",
       "      <td>0.18</td>\n",
       "      <td>0.30</td>\n",
       "      <td>0.43</td>\n",
       "      <td>0.89</td>\n",
       "      <td>1.44</td>\n",
       "      <td>2.03</td>\n",
       "      <td>2.80</td>\n",
       "      <td>3.15</td>\n",
       "    </tr>\n",
       "    <tr>\n",
       "      <th>2012-03-02</th>\n",
       "      <td>0.12</td>\n",
       "      <td>0.17</td>\n",
       "      <td>0.28</td>\n",
       "      <td>0.41</td>\n",
       "      <td>0.84</td>\n",
       "      <td>1.38</td>\n",
       "      <td>1.99</td>\n",
       "      <td>2.77</td>\n",
       "      <td>3.11</td>\n",
       "    </tr>\n",
       "    <tr>\n",
       "      <th>2012-03-05</th>\n",
       "      <td>0.14</td>\n",
       "      <td>0.17</td>\n",
       "      <td>0.31</td>\n",
       "      <td>0.43</td>\n",
       "      <td>0.87</td>\n",
       "      <td>1.40</td>\n",
       "      <td>2.00</td>\n",
       "      <td>2.78</td>\n",
       "      <td>3.13</td>\n",
       "    </tr>\n",
       "    <tr>\n",
       "      <th>2012-03-06</th>\n",
       "      <td>0.13</td>\n",
       "      <td>0.17</td>\n",
       "      <td>0.30</td>\n",
       "      <td>0.40</td>\n",
       "      <td>0.83</td>\n",
       "      <td>1.35</td>\n",
       "      <td>1.96</td>\n",
       "      <td>2.73</td>\n",
       "      <td>3.08</td>\n",
       "    </tr>\n",
       "    <tr>\n",
       "      <th>2012-03-07</th>\n",
       "      <td>0.14</td>\n",
       "      <td>0.18</td>\n",
       "      <td>0.30</td>\n",
       "      <td>0.42</td>\n",
       "      <td>0.85</td>\n",
       "      <td>1.37</td>\n",
       "      <td>1.98</td>\n",
       "      <td>2.76</td>\n",
       "      <td>3.12</td>\n",
       "    </tr>\n",
       "  </tbody>\n",
       "</table>\n",
       "</div>"
      ],
      "text/plain": [
       "            6 MO  1 YR  2 YR  3 YR  5 YR  7 YR  10 YR  20 YR  30 YR\n",
       "Date                                                               \n",
       "2012-03-01  0.13  0.18  0.30  0.43  0.89  1.44   2.03   2.80   3.15\n",
       "2012-03-02  0.12  0.17  0.28  0.41  0.84  1.38   1.99   2.77   3.11\n",
       "2012-03-05  0.14  0.17  0.31  0.43  0.87  1.40   2.00   2.78   3.13\n",
       "2012-03-06  0.13  0.17  0.30  0.40  0.83  1.35   1.96   2.73   3.08\n",
       "2012-03-07  0.14  0.18  0.30  0.42  0.85  1.37   1.98   2.76   3.12"
      ]
     },
     "execution_count": 9,
     "metadata": {},
     "output_type": "execute_result"
    }
   ],
   "source": [
    "Curve.head()"
   ]
  },
  {
   "cell_type": "markdown",
   "metadata": {},
   "source": [
    "### 2b: Perform PCA"
   ]
  },
  {
   "cell_type": "markdown",
   "metadata": {},
   "source": [
    "#### PCA:\n",
    "The covariance matrix:\n",
    "$$\\Sigma = cov(\\Delta y_{t}^{mkt})$$\n",
    "Decomposition:\n",
    "$$\\Sigma = E  \\Lambda  E^{T}$$\n",
    "The relationship between factors $F_{t}$ and $\\Delta y_{t}^{mkt}$\n",
    "$$F_{t} = E^{T} \\Delta y_{t}^{mkt}$$\n",
    "$$E F_{t} = \\Delta y_{t}^{mkt}$$\n",
    "#### Explanation:\n",
    "Sample1: $\\Delta y_{t}^{mkt}$  \n",
    "pca.components_ : $E^{T}$  \n",
    "pca.explained_variance_ : The diagonal of $\\Lambda$"
   ]
  },
  {
   "cell_type": "code",
   "execution_count": 10,
   "metadata": {},
   "outputs": [],
   "source": [
    "from sklearn.decomposition import PCA\n",
    "Sample1 = Curve.diff().loc['2012-3-2':'2016-3-1',:] # Get Sample1 from CMT rates move\n",
    "pca = PCA(n_components = 9)"
   ]
  },
  {
   "cell_type": "code",
   "execution_count": 11,
   "metadata": {},
   "outputs": [
    {
     "data": {
      "text/plain": [
       "6 MO     0.00037\n",
       "1 YR     0.00050\n",
       "2 YR     0.00055\n",
       "3 YR     0.00055\n",
       "5 YR     0.00042\n",
       "7 YR     0.00018\n",
       "10 YR   -0.00020\n",
       "20 YR   -0.00052\n",
       "30 YR   -0.00045\n",
       "dtype: float64"
      ]
     },
     "execution_count": 11,
     "metadata": {},
     "output_type": "execute_result"
    }
   ],
   "source": [
    "Sample1.mean() # mean of features"
   ]
  },
  {
   "cell_type": "code",
   "execution_count": 12,
   "metadata": {},
   "outputs": [
    {
     "data": {
      "text/plain": [
       "PCA(copy=True, iterated_power='auto', n_components=9, random_state=None,\n",
       "    svd_solver='auto', tol=0.0, whiten=False)"
      ]
     },
     "execution_count": 12,
     "metadata": {},
     "output_type": "execute_result"
    }
   ],
   "source": [
    "pca.fit(Sample1) # Cov = E * A * E.Transpose"
   ]
  },
  {
   "cell_type": "code",
   "execution_count": 13,
   "metadata": {
    "scrolled": true
   },
   "outputs": [
    {
     "name": "stdout",
     "output_type": "stream",
     "text": [
      "[[ 0.02049106  0.04975355  0.1743952   0.26168396  0.38788363  0.44644618\n",
      "   0.4365832   0.43195375  0.4138305 ]\n",
      " [ 0.07959337  0.14347513  0.43000143  0.49784063  0.36233745  0.13534326\n",
      "  -0.11232162 -0.39893932 -0.46792981]\n",
      " [-0.53527341 -0.59009392 -0.36746779 -0.00870765  0.26388562  0.28109713\n",
      "   0.08090742 -0.13296727 -0.23934414]\n",
      " [ 0.52766379  0.2894654  -0.62893779 -0.13609759  0.18869581  0.29729441\n",
      "   0.15826214 -0.12678159 -0.24204309]\n",
      " [-0.64759479  0.72746249 -0.20916909  0.05980833 -0.01530422  0.03275419\n",
      "   0.00139984 -0.04777742  0.0223353 ]\n",
      " [ 0.08462544 -0.10937323 -0.4553518   0.76580395 -0.06638699 -0.291014\n",
      "  -0.19786456  0.06499631  0.23367455]\n",
      " [ 0.01956944  0.03610602 -0.04241389 -0.26917038  0.68724588 -0.16573623\n",
      "  -0.54692972 -0.05303527  0.3497735 ]\n",
      " [ 0.0331248  -0.04816668  0.03043591  0.01683831 -0.25262536  0.3892251\n",
      "  -0.02953067 -0.69069525  0.54965908]\n",
      " [ 0.01666192  0.01227039  0.0163556   0.04805085 -0.26879028  0.59181229\n",
      "  -0.65270936  0.36623714 -0.11977593]]\n"
     ]
    }
   ],
   "source": [
    "print(pca.components_)  # E.Transpose"
   ]
  },
  {
   "cell_type": "code",
   "execution_count": 14,
   "metadata": {},
   "outputs": [
    {
     "name": "stdout",
     "output_type": "stream",
     "text": [
      "[[1.134e-02]\n",
      " [1.000e-03]\n",
      " [2.300e-04]\n",
      " [1.400e-04]\n",
      " [9.000e-05]\n",
      " [8.000e-05]\n",
      " [4.000e-05]\n",
      " [3.000e-05]\n",
      " [3.000e-05]]\n"
     ]
    }
   ],
   "source": [
    "print(np.around(pca.explained_variance_, decimals = 5).reshape(9,1)) # The diagonal of A"
   ]
  },
  {
   "cell_type": "code",
   "execution_count": 15,
   "metadata": {},
   "outputs": [
    {
     "name": "stdout",
     "output_type": "stream",
     "text": [
      "[[87.33]\n",
      " [ 7.7 ]\n",
      " [ 1.77]\n",
      " [ 1.1 ]\n",
      " [ 0.73]\n",
      " [ 0.59]\n",
      " [ 0.31]\n",
      " [ 0.25]\n",
      " [ 0.22]]\n"
     ]
    }
   ],
   "source": [
    "print(np.around(pca.explained_variance_ratio_*100, decimals = 2).reshape(9,1)) # Explained variance ratio (%)"
   ]
  },
  {
   "cell_type": "markdown",
   "metadata": {},
   "source": [
    "### 2c: Analyze the CMT rates move on the Election Day"
   ]
  },
  {
   "cell_type": "markdown",
   "metadata": {},
   "source": [
    "#### Explanation\n",
    "move: \n",
    "$$\\Delta y_{2016-11-9}^{mkt} = y_{2016-11-9}^{mkt} - y_{2016-11-8}^{mkt}$$  \n",
    "factors: \n",
    "$$F_{2016-11-9} = E^{T} (\\Delta y_{2016-11-9}^{mkt} - \\Delta \\bar y_{t}^{mkt}) $$  "
   ]
  },
  {
   "cell_type": "markdown",
   "metadata": {},
   "source": [
    "movepcak:   \n",
    "$$\\Delta y_{2016-11-9}^{theory} = E F_{2016-11-9} + \\Delta \\bar y_{t}^{mkt}$$"
   ]
  },
  {
   "cell_type": "markdown",
   "metadata": {},
   "source": [
    "\n",
    "The shape of the above formula:\n",
    "$$ (9 \\times 1) = (9 \\times k) \\times (k \\times 1) + (9 \\times 1) $$"
   ]
  },
  {
   "cell_type": "code",
   "execution_count": 16,
   "metadata": {},
   "outputs": [],
   "source": [
    "move = Curve.diff().loc['2016-11-9',:] # CMT rates move on Election Day 2016-11-09"
   ]
  },
  {
   "cell_type": "code",
   "execution_count": 17,
   "metadata": {},
   "outputs": [],
   "source": [
    "factors = pca.components_.dot(move - Sample1.mean()) # Factors Data"
   ]
  },
  {
   "cell_type": "code",
   "execution_count": 18,
   "metadata": {},
   "outputs": [],
   "source": [
    "move_pca1 = pca.components_.transpose()[:,0].dot(factors[0]) + Sample1.mean()  # move explained by the 1st factor\n",
    "move_pca2 = pca.components_.transpose()[:,:2].dot(factors[:2]) + Sample1.mean() # move explained by the first 2 factors\n",
    "move_pca3 = pca.components_.transpose()[:,:3].dot(factors[:3]) + Sample1.mean() # move explained by the first 3 factors"
   ]
  },
  {
   "cell_type": "code",
   "execution_count": 19,
   "metadata": {
    "scrolled": true
   },
   "outputs": [
    {
     "data": {
      "image/png": "[encoded data removed]",
      "text/plain": [
       "<Figure size 720x360 with 1 Axes>"
      ]
     },
     "metadata": {
      "needs_background": "light"
     },
     "output_type": "display_data"
    }
   ],
   "source": [
    "term = [0.5,1,2,3,5,7,10,20,30]\n",
    "_ = plt.figure(figsize = (10,5))\n",
    "_ = plt.plot(term, move, label = 'CMT rates move')\n",
    "_ = plt.plot(term, move_pca1, label = '1st factor explained')\n",
    "_ = plt.plot(term, move_pca2, label = '1st two factors explained')\n",
    "_ = plt.plot(term, move_pca3, label = '1st three factors explained')\n",
    "_ = plt.title('CMT rates move vs move factors explained')\n",
    "_ = plt.legend()"
   ]
  },
  {
   "cell_type": "markdown",
   "metadata": {},
   "source": [
    "#### Explanation:\n",
    "* We know that on the 2016 presidential election day, after Donald Trump won, the CMT rates **all went up** and **the spread between short-term yield and long-term yield became wider**.\n",
    "* The market expected that Donald Trump would implement expansional fisical policy after becoming the President of the United States, so Treasury bonds went down, pushing up the yield curve.\n",
    "* From PCA method above, we know that **first pca factor could explain the 87% change of the CMT rates, while the second factor and the third factor's contributions are 7.7% and 1.77% respectively**. And the real results could prove that.\n",
    "* As we can see, from the figure above, the first factor could explain **the overall directional change** of the CMT rates and the second and third factor could even **distinguish the spread among rates with different maturities**. The more factors we included, the closer the theoretical rates move is with the real rates move."
   ]
  },
  {
   "cell_type": "code",
   "execution_count": 20,
   "metadata": {
    "scrolled": true
   },
   "outputs": [
    {
     "data": {
      "image/png": "[encoded data removed]",
      "text/plain": [
       "<Figure size 720x360 with 1 Axes>"
      ]
     },
     "metadata": {
      "needs_background": "light"
     },
     "output_type": "display_data"
    }
   ],
   "source": [
    "_ = plt.figure(figsize = (10,5))\n",
    "_ = plt.plot(term, Curve.loc['2016-11-9',:], label = 'CMT rates on Election Day')\n",
    "_ = plt.plot(term, move_pca1+Curve.loc['2016-11-8',:], label = '1st factor explained')\n",
    "_ = plt.plot(term, move_pca2+Curve.loc['2016-11-8',:], label = '1st two factors explained ')\n",
    "_ = plt.plot(term, move_pca3+Curve.loc['2016-11-8',:], label = '1st three factors explained')\n",
    "_ = plt.title('CMT rates on Election Day vs rates explained by factors')\n",
    "_ = plt.legend()"
   ]
  },
  {
   "cell_type": "markdown",
   "metadata": {},
   "source": [
    "### 2d: WFLY1 weights"
   ]
  },
  {
   "cell_type": "markdown",
   "metadata": {},
   "source": [
    "#### Explanation:\n",
    "$$pca.components_.transpose()[m,n] = \\frac{\\partial \\Delta y_{(m+1)}^{mkt}}{f_{n+1}}$$"
   ]
  },
  {
   "cell_type": "code",
   "execution_count": 21,
   "metadata": {
    "scrolled": false
   },
   "outputs": [
    {
     "name": "stdout",
     "output_type": "stream",
     "text": [
      "[0.26168396 0.49784063]\n",
      "[0.44644618 0.13534326]\n",
      "[ 0.4365832  -0.11232162]\n"
     ]
    }
   ],
   "source": [
    "print(pca.components_.transpose()[3,0:2]) # d(3Y)/d(factor1,factor2)\n",
    "print(pca.components_.transpose()[5,0:2]) # d(7Y)/d(factor1,factor2)\n",
    "print(pca.components_.transpose()[6,0:2]) # d(10Y)/d(factor1,factor2)"
   ]
  },
  {
   "cell_type": "markdown",
   "metadata": {},
   "source": [
    "#### Compute the Neutral weights\n",
    "We know the portfolio can be displayed like:\n",
    "$$\\pi = w_1 \\times Y_3 - Y_7 + w_2 \\times Y_{10}$$\n",
    "According to chain rules, risks the portfolio exposed to different factors are:\n",
    "$$\\frac{\\partial \\pi}{\\partial f_1} = \\frac{\\partial \\pi}{\\partial \\vec y}\\times \\frac{\\partial \\vec y}{\\partial f_1}$$\n",
    "So we get:\n",
    "$$0.2617 \\times w_1 - 0.4464 + 0.4366 \\times w_2 = 0$$\n",
    "$$0.4978 \\times w_1 - 0.1353 - 0.1123 \\times w_2 = 0$$\n",
    "Suppose:\n",
    "$$ A = \\left(\n",
    "\\begin{matrix}\n",
    "0.2617 & 0.4366 \\\\\n",
    "0.4978 & -0.1123\n",
    "\\end{matrix}\n",
    "\\right)$$\n",
    "$$w = \\left(\n",
    "\\begin{matrix}\n",
    "w_1 \\\\\n",
    "w_2\n",
    "\\end{matrix}\n",
    "\\right)$$\n",
    "$$b = \\left(\n",
    "\\begin{matrix}\n",
    "0.4464 \\\\\n",
    "0.1353\n",
    "\\end{matrix}\n",
    "\\right)$$\n",
    "Then \n",
    "$$w = A^{-1}b$$"
   ]
  },
  {
   "cell_type": "code",
   "execution_count": 22,
   "metadata": {},
   "outputs": [],
   "source": [
    "b = pca.components_.transpose()[5,0:2].reshape(2,1)\n",
    "A = pca.components_.transpose()[3:9:3,0:2].transpose()\n",
    "w = np.dot(np.linalg.inv(A),b) # Aw = b, so w = A-1b"
   ]
  },
  {
   "cell_type": "code",
   "execution_count": 23,
   "metadata": {},
   "outputs": [
    {
     "data": {
      "text/plain": [
       "array([[0.44270662],\n",
       "       [0.75723699]])"
      ]
     },
     "execution_count": 23,
     "metadata": {},
     "output_type": "execute_result"
    }
   ],
   "source": [
    "w"
   ]
  },
  {
   "cell_type": "code",
   "execution_count": 24,
   "metadata": {},
   "outputs": [],
   "source": [
    "WFLY1 = w[0]*Curve.loc[:,'3 YR'] + Curve.loc[:,'7 YR'] + w[1]*Curve.loc[:,'10 YR'] # WFLY1 series"
   ]
  },
  {
   "cell_type": "code",
   "execution_count": 25,
   "metadata": {},
   "outputs": [
    {
     "name": "stderr",
     "output_type": "stream",
     "text": [
      "/Users/liunayan/anaconda3/lib/python3.7/site-packages/pandas/plotting/_converter.py:129: FutureWarning: Using an implicitly registered datetime converter for a matplotlib plotting method. The converter was registered by pandas on import. Future versions of pandas will require you to explicitly register matplotlib converters.\n",
      "\n",
      "To register the converters:\n",
      "\t>>> from pandas.plotting import register_matplotlib_converters\n",
      "\t>>> register_matplotlib_converters()\n",
      "  warnings.warn(msg, FutureWarning)\n"
     ]
    },
    {
     "data": {
      "image/png": "[encoded data removed]",
      "text/plain": [
       "<Figure size 432x288 with 1 Axes>"
      ]
     },
     "metadata": {
      "needs_background": "light"
     },
     "output_type": "display_data"
    }
   ],
   "source": [
    "_ = plt.plot(WFLY1.index,WFLY1)\n",
    "_ = plt.title(\"WFLY1 Series\")"
   ]
  },
  {
   "cell_type": "markdown",
   "metadata": {},
   "source": [
    "### 2e: WFLY2 weights via Chou-Ng methodology"
   ]
  },
  {
   "cell_type": "markdown",
   "metadata": {},
   "source": [
    "#### Chou-Ng Method:\n",
    "$$y_{t-1} = y_{t}A + \\epsilon_{t}$$\n",
    "$$y_{t} = y_{t-1}B + \\epsilon_{t}$$\n",
    "$$C = AB$$\n",
    "Decomposition:\n",
    "$$C = E  \\Lambda  E^{T}$$\n",
    "#### Explanation:\n",
    "eig_val: The diagonal of $\\Lambda$  \n",
    "eig_vec: $E^{T}$  \n",
    "C: $C$  \n",
    "w_cca_cn: $(w1,w2)$"
   ]
  },
  {
   "cell_type": "code",
   "execution_count": 26,
   "metadata": {},
   "outputs": [],
   "source": [
    "import statsmodels.api as sm\n",
    "\n",
    "def CCA_Chou_Ng(data_set):\n",
    "    \n",
    "    #data_set is pandas dataframe\n",
    "    df_lag = data_set.shift(1).dropna()\n",
    "    df = data_set.drop(data_set.index[0]).dropna()\n",
    "    n = len(data_set.columns)\n",
    "    \n",
    "    #X(t) ~ M_1 + X(t-1)\n",
    "    X = df_lag.values\n",
    "    X_I = sm.add_constant(X)\n",
    "    Y = df.values\n",
    "    l1 = sm.OLS(Y,X_I).fit()\n",
    "    B=l1.params[1:(n+1)]\n",
    "    \n",
    "    #X(t-1) ~ M_2 + X(t)\n",
    "    Y_I = sm.add_constant(Y)\n",
    "    l2 = sm.OLS(X,Y_I).fit()\n",
    "    A=l2.params[1:(n+1)]\n",
    "    C = np.dot(A,B)\n",
    "    eig_val, eig_vec = np.linalg.eig(C)\n",
    "    return eig_val, eig_vec, C"
   ]
  },
  {
   "cell_type": "code",
   "execution_count": 27,
   "metadata": {},
   "outputs": [],
   "source": [
    "butterfly = Curve.loc['2012-3-1':'2016-3-1',['3 YR','7 YR','10 YR']]\n",
    "val, vec, C = CCA_Chou_Ng(butterfly)"
   ]
  },
  {
   "cell_type": "code",
   "execution_count": 28,
   "metadata": {},
   "outputs": [
    {
     "name": "stdout",
     "output_type": "stream",
     "text": [
      "[0.88098368 0.99564837 0.98939605]\n"
     ]
    }
   ],
   "source": [
    "print(val)"
   ]
  },
  {
   "cell_type": "markdown",
   "metadata": {},
   "source": [
    "The first eigenvalue is the lowest eigenvalue, so the first eigenvector is the best mean-reverting weights."
   ]
  },
  {
   "cell_type": "code",
   "execution_count": 29,
   "metadata": {},
   "outputs": [],
   "source": [
    "w_cca_cn = [-vec[0,0]/vec[1,0],-vec[2,0]/vec[1,0]]"
   ]
  },
  {
   "cell_type": "code",
   "execution_count": 30,
   "metadata": {},
   "outputs": [
    {
     "name": "stdout",
     "output_type": "stream",
     "text": [
      "[0.6519405548016614, 0.7941408018582995]\n"
     ]
    }
   ],
   "source": [
    "print(w_cca_cn)"
   ]
  },
  {
   "cell_type": "code",
   "execution_count": 31,
   "metadata": {},
   "outputs": [],
   "source": [
    "WFLY2_cn = w_cca_cn[0]*Curve.loc[:,'3 YR'] + Curve.loc[:,'7 YR'] + w_cca_cn[1]*Curve.loc[:,'10 YR']"
   ]
  },
  {
   "cell_type": "code",
   "execution_count": 32,
   "metadata": {
    "scrolled": true
   },
   "outputs": [
    {
     "data": {
      "image/png": "[encoded data removed]",
      "text/plain": [
       "<Figure size 432x288 with 1 Axes>"
      ]
     },
     "metadata": {
      "needs_background": "light"
     },
     "output_type": "display_data"
    }
   ],
   "source": [
    "_ = plt.plot(WFLY2_cn.index,WFLY2_cn)\n",
    "_ = plt.title(\"WFLY2 Series via Chou-Ng Method\")"
   ]
  },
  {
   "cell_type": "markdown",
   "metadata": {},
   "source": [
    "### 2e: WFLY2 weights via Box-Tiao methodology"
   ]
  },
  {
   "cell_type": "markdown",
   "metadata": {},
   "source": [
    "#### Box-Tiao Method:\n",
    "$$y_{t} = y_{t-1}A + \\epsilon_{t}$$\n",
    "$$\\Sigma = cov(y_{t})$$\n",
    "$$Q = \\Sigma^{-1} A^{T} \\Sigma A$$\n",
    "Decomposition:\n",
    "$$Q = E  \\Lambda  E^{T}$$\n",
    "#### Explanation:\n",
    "eig_val: The diagonal of $\\Lambda$  \n",
    "eig_vec: $E^{T}$  \n",
    "Q: $Q$  \n",
    "w_cca_box: $(w1,w2)$"
   ]
  },
  {
   "cell_type": "code",
   "execution_count": 33,
   "metadata": {},
   "outputs": [],
   "source": [
    "def CCA_Box_Tiao(data_set):\n",
    "    \"\"\"Canonical Correlation Analysis via Box-Tiao.\n",
    "    \n",
    "    Args:\n",
    "    data_set: a pandas.DataFrame with shape (n_samples,n_series)\n",
    "    \n",
    "    Returns:\n",
    "    eig_val: a numpy.ndarray with shape (n_series, 1)\n",
    "    eig_vec: a numpy.ndarray with shape (n_series, n_series)\n",
    "    Q: a numpy.ndarray with shape (n_series, n_series)\n",
    "    \"\"\"\n",
    "    x = data_set.shift(1)[1:] # Y(t-1)\n",
    "    y = data_set[1:] # Y(t)\n",
    "    A = sm.OLS(y,x).fit().params.values # Y(t) = Y(t-1)*A + e(t)\n",
    "    cov = data_set.cov().values # Covariance Matrix of Y(t)\n",
    "    Q = np.linalg.multi_dot([np.linalg.inv(cov), A.T, cov, A]) # Q = Cov.inverse * A.T * Cov * A\n",
    "    \n",
    "    eig_val, eig_vec = np.linalg.eig(Q) # eigenvalues and eigenvectors of Q\n",
    "    return eig_val, eig_vec, Q"
   ]
  },
  {
   "cell_type": "code",
   "execution_count": 34,
   "metadata": {},
   "outputs": [],
   "source": [
    "val, vec, Q = CCA_Box_Tiao(butterfly)"
   ]
  },
  {
   "cell_type": "code",
   "execution_count": 35,
   "metadata": {},
   "outputs": [
    {
     "name": "stdout",
     "output_type": "stream",
     "text": [
      "[0.97146715 0.99285872 1.01293547]\n"
     ]
    }
   ],
   "source": [
    "print(val)"
   ]
  },
  {
   "cell_type": "markdown",
   "metadata": {},
   "source": [
    "The first eigenvalue is the lowest eigenvalue, so the first eigenvector is the best mean-reverting weights."
   ]
  },
  {
   "cell_type": "code",
   "execution_count": 36,
   "metadata": {},
   "outputs": [],
   "source": [
    "w_cca_box = [-vec[0,0]/vec[1,0],-vec[2,0]/vec[1,0]]"
   ]
  },
  {
   "cell_type": "code",
   "execution_count": 37,
   "metadata": {},
   "outputs": [
    {
     "name": "stdout",
     "output_type": "stream",
     "text": [
      "[0.6815583225030792, 0.7142183644637737]\n"
     ]
    }
   ],
   "source": [
    "print(w_cca_box)"
   ]
  },
  {
   "cell_type": "code",
   "execution_count": 38,
   "metadata": {},
   "outputs": [],
   "source": [
    "WFLY2_box = w_cca_box[0]*Curve.loc[:,'3 YR'] + Curve.loc[:,'7 YR'] + w_cca_box[1]*Curve.loc[:,'10 YR']"
   ]
  },
  {
   "cell_type": "code",
   "execution_count": 39,
   "metadata": {
    "scrolled": true
   },
   "outputs": [
    {
     "data": {
      "image/png": "[encoded data removed]",
      "text/plain": [
       "<Figure size 432x288 with 1 Axes>"
      ]
     },
     "metadata": {
      "needs_background": "light"
     },
     "output_type": "display_data"
    }
   ],
   "source": [
    "_ = plt.plot(WFLY2_box.index,WFLY2_box)\n",
    "_ = plt.title(\"WFLY2 Series via Box-Tiao Method\")"
   ]
  },
  {
   "cell_type": "markdown",
   "metadata": {},
   "source": [
    "### 3: Compute Half-Life and ADF"
   ]
  },
  {
   "cell_type": "markdown",
   "metadata": {},
   "source": [
    "#### Half-Life\n",
    "The half-life measures the rate of decay of a mean-reverting process and it is the time taken by a given value to decay to half its long-run mean.\n",
    "$$y_{t} - y_{t-1} = \\alpha + \\beta y_{t-1} + \\epsilon_{t}$$\n",
    "$$HalfLife = -\\frac{log(2)}{\\beta}$$"
   ]
  },
  {
   "cell_type": "code",
   "execution_count": 40,
   "metadata": {},
   "outputs": [],
   "source": [
    "import math\n",
    "def HalfLife(s):\n",
    "    \"\"\"Calculate the Half Life of mean reversion series.\n",
    "    Methodology: https://quant.stackexchange.com/questions/25086/calculating-half-life-of-mean-reverting-series-with-python\n",
    "    \n",
    "    Args:\n",
    "    s: pandas.Series\n",
    "    \n",
    "    Returns:\n",
    "    HF: float\n",
    "    \"\"\"\n",
    "    \n",
    "    x = s.shift()[1:] # Y(t-1)\n",
    "    y = s.diff()[1:] # Y(t) - Y(t-1)\n",
    "    x = sm.add_constant(x) #adds intercept terms to X variable for regression\n",
    "    x.columns = ['const','x'] # Y(t) - Y(t-1) = intercept + slope *Y(t-1) + e\n",
    "    slope = sm.OLS(y,x).fit().params[1] \n",
    "    HF = -math.log(2) / slope # Half-life = - log(2)/slope\n",
    "    return HF"
   ]
  },
  {
   "cell_type": "code",
   "execution_count": 41,
   "metadata": {},
   "outputs": [
    {
     "name": "stdout",
     "output_type": "stream",
     "text": [
      "The half life of series WFLY1 is: 107.23\n"
     ]
    },
    {
     "name": "stderr",
     "output_type": "stream",
     "text": [
      "/Users/liunayan/anaconda3/lib/python3.7/site-packages/numpy/core/fromnumeric.py:2389: FutureWarning: Method .ptp is deprecated and will be removed in a future version. Use numpy.ptp instead.\n",
      "  return ptp(axis=axis, out=out, **kwargs)\n"
     ]
    }
   ],
   "source": [
    "print(\"The half life of series WFLY1 is:\", np.around(HalfLife(WFLY1),decimals = 2))"
   ]
  },
  {
   "cell_type": "code",
   "execution_count": 42,
   "metadata": {},
   "outputs": [
    {
     "name": "stdout",
     "output_type": "stream",
     "text": [
      "The half life of series WFLY2 via Chou-Ng is: 111.66\n"
     ]
    }
   ],
   "source": [
    "print(\"The half life of series WFLY2 via Chou-Ng is:\", np.around(HalfLife(WFLY2_cn),decimals = 2))"
   ]
  },
  {
   "cell_type": "code",
   "execution_count": 43,
   "metadata": {},
   "outputs": [
    {
     "name": "stdout",
     "output_type": "stream",
     "text": [
      "The half life of series WFLY2 via Box-Tiao is: 114.12\n"
     ]
    }
   ],
   "source": [
    "print(\"The half life of series WFLY2 via Box-Tiao is:\", np.around(HalfLife(WFLY2_box),decimals = 2))"
   ]
  },
  {
   "cell_type": "markdown",
   "metadata": {},
   "source": [
    "#### ADF test\n",
    "The ADF test measures the stationarity of a series and is one of unit root tests.  \n",
    "The null hypothesis of the ADF test is that the series has unit root so it is non-stationary.  \n",
    "So if the p-value of the test is more than the significance level, we cannot reject the null hypothesis and we think that the series tested is non-stationary."
   ]
  },
  {
   "cell_type": "code",
   "execution_count": 44,
   "metadata": {},
   "outputs": [],
   "source": [
    "import statsmodels.tsa.stattools as ts\n",
    "def adftest(s):\n",
    "    \"\"\"Do the Augmented Dickey-Fuller test of series.\n",
    "     \n",
    "    Args:\n",
    "    s: pandas.Series\n",
    "    \n",
    "    Returns:\n",
    "    The p-value of the test and criterions under different significance levels.\n",
    "    \"\"\"\n",
    "    test = ts.adfuller(s,1)\n",
    "    print(\"The p-value of this ADF test is:\",np.around(test[1],decimals = 2))"
   ]
  },
  {
   "cell_type": "code",
   "execution_count": 45,
   "metadata": {},
   "outputs": [
    {
     "name": "stdout",
     "output_type": "stream",
     "text": [
      "The p-value of this ADF test is: 0.28\n"
     ]
    }
   ],
   "source": [
    "adftest(WFLY1)"
   ]
  },
  {
   "cell_type": "code",
   "execution_count": 46,
   "metadata": {},
   "outputs": [
    {
     "name": "stdout",
     "output_type": "stream",
     "text": [
      "The p-value of this ADF test is: 0.3\n"
     ]
    }
   ],
   "source": [
    "adftest(WFLY2_cn)"
   ]
  },
  {
   "cell_type": "code",
   "execution_count": 47,
   "metadata": {},
   "outputs": [
    {
     "name": "stdout",
     "output_type": "stream",
     "text": [
      "The p-value of this ADF test is: 0.32\n"
     ]
    }
   ],
   "source": [
    "adftest(WFLY2_box)"
   ]
  },
  {
   "cell_type": "markdown",
   "metadata": {},
   "source": [
    "### 4: Out-of-sample test\n",
    "* WFLY1t3 is the out-of-sample series of WFLY1 using 3-month period\n",
    "* WFLY1t6 is the out-of-sample series of WFLY1 using 6-month period\n",
    "* WFLY2_cnt3 is the out-of-sample series of WFLY2 via Chou-Ng using 3-month period\n",
    "* WFLY2_cnt6 is the out-of-sample series of WFLY2 via Chou-Ng using 6-month period\n",
    "* WFLY2_boxt3 is the out-of-sample series of WFLY2 via Box-Tiao using 3-month period\n",
    "* WFLY2_boxt6 is the out-of-sample series of WFLY2 via Box-Tiao using 6-month period"
   ]
  },
  {
   "cell_type": "code",
   "execution_count": 48,
   "metadata": {},
   "outputs": [],
   "source": [
    "Test3 = Curve['2016-3-2':'2016-6-2'] # Out-of-sample 3 month\n",
    "Test6 = Curve['2016-3-2':'2016-9-2'] # Out-of-sample 6 month"
   ]
  },
  {
   "cell_type": "code",
   "execution_count": 49,
   "metadata": {},
   "outputs": [],
   "source": [
    "WFLY1t3 = w[0]*Test3.loc[:,'3 YR'] + Test3.loc[:,'7 YR'] + w[1]*Test3.loc[:,'10 YR']\n",
    "WFLY1t6 = w[0]*Test6.loc[:,'3 YR'] + Test6.loc[:,'7 YR'] + w[1]*Test6.loc[:,'10 YR']\n",
    "WFLY2_cnt3 = w_cca_cn[0]*Test3.loc[:,'3 YR'] + Test3.loc[:,'7 YR'] + w_cca_cn[1]*Test3.loc[:,'10 YR']\n",
    "WFLY2_cnt6 = w_cca_cn[0]*Test6.loc[:,'3 YR'] + Test6.loc[:,'7 YR'] + w_cca_cn[1]*Test6.loc[:,'10 YR']\n",
    "WFLY2_boxt3 = w_cca_box[0]*Test3.loc[:,'3 YR'] + Test3.loc[:,'7 YR'] + w_cca_box[1]*Test3.loc[:,'10 YR']\n",
    "WFLY2_boxt6 = w_cca_box[0]*Test6.loc[:,'3 YR'] + Test6.loc[:,'7 YR'] + w_cca_box[1]*Test6.loc[:,'10 YR']"
   ]
  },
  {
   "cell_type": "code",
   "execution_count": 50,
   "metadata": {},
   "outputs": [
    {
     "data": {
      "image/png": "[encoded data removed]",
      "text/plain": [
       "<Figure size 720x360 with 1 Axes>"
      ]
     },
     "metadata": {
      "needs_background": "light"
     },
     "output_type": "display_data"
    }
   ],
   "source": [
    "_ = plt.figure(figsize = (10,5))\n",
    "_ = plt.plot(WFLY1t6.index, WFLY1t6, label = 'WFLY1 6m')\n",
    "_ = plt.plot(WFLY1t6.index, WFLY2_cnt6, label = 'WFLY2_cn 6m')\n",
    "_ = plt.plot(WFLY1t6.index, WFLY2_boxt6, label = 'WFLY2_box 6m')\n",
    "_ = plt.plot(WFLY1t3.index, WFLY1t3, label = 'WFLY1 3m')\n",
    "_ = plt.plot(WFLY1t3.index, WFLY2_cnt3, label = 'WFLY2_cn 3m')\n",
    "_ = plt.plot(WFLY1t3.index, WFLY2_boxt3, label = 'WFLY2_box 3m')\n",
    "_ = plt.title('Out of Sample Test')\n",
    "_ = plt.legend()"
   ]
  },
  {
   "cell_type": "code",
   "execution_count": 51,
   "metadata": {},
   "outputs": [
    {
     "name": "stdout",
     "output_type": "stream",
     "text": [
      "The Half life of the series is: 5.45\n",
      "The p-value of this ADF test is: 0.26\n"
     ]
    }
   ],
   "source": [
    "print('The Half life of the series is:',np.around(HalfLife(WFLY1t3),decimals = 2))\n",
    "adftest(WFLY1t3)"
   ]
  },
  {
   "cell_type": "code",
   "execution_count": 52,
   "metadata": {
    "scrolled": true
   },
   "outputs": [
    {
     "name": "stdout",
     "output_type": "stream",
     "text": [
      "The Half life of the series is: 13.59\n",
      "The p-value of this ADF test is: 0.34\n"
     ]
    }
   ],
   "source": [
    "print('The Half life of the series is:',np.around(HalfLife(WFLY1t6),decimals = 2))\n",
    "adftest(WFLY1t6)"
   ]
  },
  {
   "cell_type": "code",
   "execution_count": 53,
   "metadata": {},
   "outputs": [
    {
     "name": "stdout",
     "output_type": "stream",
     "text": [
      "The Half life of the series is: 5.55\n",
      "The p-value of this ADF test is: 0.27\n"
     ]
    }
   ],
   "source": [
    "print('The Half life of the series is:',np.around(HalfLife(WFLY2_cnt3),decimals = 2))\n",
    "adftest(WFLY2_cnt3)"
   ]
  },
  {
   "cell_type": "code",
   "execution_count": 54,
   "metadata": {},
   "outputs": [
    {
     "name": "stdout",
     "output_type": "stream",
     "text": [
      "The Half life of the series is: 13.29\n",
      "The p-value of this ADF test is: 0.33\n"
     ]
    }
   ],
   "source": [
    "print('The Half life of the series is:',np.around(HalfLife(WFLY2_cnt6),decimals = 2))\n",
    "adftest(WFLY2_cnt6)"
   ]
  },
  {
   "cell_type": "code",
   "execution_count": 55,
   "metadata": {},
   "outputs": [
    {
     "name": "stdout",
     "output_type": "stream",
     "text": [
      "The Half life of the series is: 5.61\n",
      "The p-value of this ADF test is: 0.28\n"
     ]
    }
   ],
   "source": [
    "print('The Half life of the series is:',np.around(HalfLife(WFLY2_boxt3),decimals = 2))\n",
    "adftest(WFLY2_boxt3)"
   ]
  },
  {
   "cell_type": "code",
   "execution_count": 56,
   "metadata": {},
   "outputs": [
    {
     "name": "stdout",
     "output_type": "stream",
     "text": [
      "The Half life of the series is: 13.11\n",
      "The p-value of this ADF test is: 0.32\n"
     ]
    }
   ],
   "source": [
    "print('The Half life of the series is:',np.around(HalfLife(WFLY2_boxt6),decimals = 2))\n",
    "adftest(WFLY2_boxt6)"
   ]
  },
  {
   "cell_type": "markdown",
   "metadata": {},
   "source": [
    "#### Comparison\n",
    "* From the figure above, we know series WFLY from different methods have different levels but **the nearly same trends**.\n",
    "* According to ADF test, all of series, no matter how their weights are or how long the out-of-sample periods are, they are **all non-stationary**. Perhaps the changing economics environments have an impact on their long-run mean, all series shows different mean at different time, leading to non-stationarity.\n",
    "* From the perspective of Half life, **the longer the period is, the longer the Half Life is**. It might reveal that when the economic environment changes, series have to spend more time on approaching the new long-run mean. "
   ]
  }
 ],
 "metadata": {
  "kernelspec": {
   "display_name": "Python [conda env:root] *",
   "language": "python",
   "name": "conda-root-py"
  },
  "language_info": {
   "codemirror_mode": {
    "name": "ipython",
    "version": 3
   },
   "file_extension": ".py",
   "mimetype": "text/x-python",
   "name": "python",
   "nbconvert_exporter": "python",
   "pygments_lexer": "ipython3",
   "version": "3.7.3"
  }
 },
 "nbformat": 4,
 "nbformat_minor": 2
}
